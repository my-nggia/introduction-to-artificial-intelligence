{
  "cells": [
    {
      "cell_type": "code",
      "execution_count": null,
      "metadata": {
        "id": "BYkl4Stbwo7d"
      },
      "outputs": [],
      "source": [
        "# Group: NMT52B\n",
        "# Course: Introduction to Artificial Intelligence\n",
        "\n",
        "# Source code and sample input file\n",
        "\"\"\"\n",
        "Colab: https://colab.research.google.com/drive/1zApPJhjJZZTF6cRYvacyXZzxFgHwXIHe?authuser=3#scrollTo=qvsZyo1Opb-y\n",
        "Input file: https://drive.google.com/drive/u/3/folders/1xFMcySesiAIA7plnGuYR8qGR6-b7Kom4\n",
        "\"\"\"\n",
        "\n",
        "# Notice: \n",
        "\"\"\"\n",
        "The sample input file is run from the author's Google Drive. \n",
        "In the case that you can not run the text file, please kindly:\n",
        "- Create a folder called \"Colab/sample_input/input.txt\" on your Google Drive\n",
        "\n",
        "- Or run the code locally on your computer, change this line :\n",
        "  \"with open(\"/content/MyDrive/MyDrive/Colab/sample_input/input.txt\") as f:\" to \n",
        "  \"with open(file_name) as f:\" \n",
        "  (filename must be placed in the double quotation marks)\n",
        "\"\"\""
      ]
    },
    {
      "cell_type": "code",
      "execution_count": 1,
      "metadata": {
        "colab": {
          "base_uri": "https://localhost:8080/"
        },
        "id": "3Qeu3JOYe3VZ",
        "outputId": "4ed772e0-fafa-4ce3-d7f7-fd6b9fa88577"
      },
      "outputs": [
        {
          "name": "stdout",
          "output_type": "stream",
          "text": [
            "Mounted at /content/MyDrive\n"
          ]
        }
      ],
      "source": [
        "# from google.colab import drive\n",
        "# drive.mount(\"/content/MyDrive\")"
      ]
    },
    {
      "cell_type": "code",
      "execution_count": 2,
      "metadata": {
        "colab": {
          "base_uri": "https://localhost:8080/"
        },
        "id": "Ohkn0CZf_G1T",
        "outputId": "7936dba6-a6f7-4ad2-e26c-4a27c52e9b08"
      },
      "outputs": [
        {
          "name": "stdout",
          "output_type": "stream",
          "text": [
            "Looking in indexes: https://pypi.org/simple, https://us-python.pkg.dev/colab-wheels/public/simple/\n",
            "Collecting python-sat==0.1.7.dev12\n",
            "  Downloading python-sat-0.1.7.dev12.tar.gz (3.6 MB)\n",
            "\u001b[2K     \u001b[90m━━━━━━━━━━━━━━━━━━━━━━━━━━━━━━━━━━━━━━━━\u001b[0m \u001b[32m3.6/3.6 MB\u001b[0m \u001b[31m10.2 MB/s\u001b[0m eta \u001b[36m0:00:00\u001b[0m\n",
            "\u001b[?25h  Preparing metadata (setup.py) ... \u001b[?25l\u001b[?25hdone\n",
            "Requirement already satisfied: six in /usr/local/lib/python3.10/dist-packages (from python-sat==0.1.7.dev12) (1.16.0)\n",
            "Building wheels for collected packages: python-sat\n",
            "  Building wheel for python-sat (setup.py) ... \u001b[?25l\u001b[?25hdone\n",
            "  Created wheel for python-sat: filename=python_sat-0.1.7.dev12-cp310-cp310-linux_x86_64.whl size=1786484 sha256=ce3718f101425f86a5281c34c6bfa59488ec016115e3fd58bac55b755475eb49\n",
            "  Stored in directory: /root/.cache/pip/wheels/07/13/11/812821224beb3b5fb7169d070a1301b2b9bd118a8f95fb1ebf\n",
            "Successfully built python-sat\n",
            "Installing collected packages: python-sat\n",
            "Successfully installed python-sat-0.1.7.dev12\n"
          ]
        }
      ],
      "source": [
        "# !pip install python-sat==0.1.7.dev12\n",
        "from itertools import combinations\n",
        "from pysat.solvers import Glucose3\n",
        "import numpy as np\n",
        "import matplotlib.pyplot as plt\n",
        "from matplotlib import colors"
      ]
    },
    {
      "cell_type": "code",
      "execution_count": null,
      "metadata": {
        "id": "Ptv0aC1vhyms"
      },
      "outputs": [],
      "source": [
        "# Read file\n",
        "# with open(\"/content/MyDrive/MyDrive/Colab/sample_input/input.txt\") as f:\n",
        "#   maze = f.read()\n",
        "with open(\"testcase1.txt\") as f:\n",
        "  maze = f.read()"
      ]
    },
    {
      "cell_type": "code",
      "execution_count": 4,
      "metadata": {
        "id": "DKJWjcmMiZqR"
      },
      "outputs": [],
      "source": [
        "# Each line of the maze is an element in the list\n",
        "maze_list = maze.splitlines()\n",
        "\n",
        "# Get the first line of the maze\n",
        "first_line = maze_list[0].split(\" \")\n",
        "\n",
        "# Get the rows and columns\n",
        "rows = int(first_line[0])\n",
        "columns = int(first_line[1])\n",
        "\n",
        "# The maze after removing first line\n",
        "maze = maze_list[1:]"
      ]
    },
    {
      "cell_type": "code",
      "execution_count": null,
      "metadata": {
        "id": "MgVheFlZMhjj"
      },
      "outputs": [],
      "source": [
        "# Find neighbors of a cell\n",
        "def get_adjacents(r, c):\n",
        "    result = []\n",
        "    for row_add in range(-1, 2):\n",
        "        new_row = r + row_add\n",
        "        if new_row >= 0 and new_row <= len(maze)-1:\n",
        "            for col_add in range(-1, 2):\n",
        "                new_col = c + col_add\n",
        "                if new_col >= 0 and new_col <= len(maze)-1:\n",
        "                    if new_col == c and new_row == r:\n",
        "                        continue\n",
        "                    result.append((new_row,new_col))\n",
        "    result.append((r, c))\n",
        "    return result\n",
        "\n",
        "\n",
        "def convert_coordinate_to_int(neighbors):\n",
        "  result = []\n",
        "  for neighbor in neighbors:\n",
        "    result.append(neighbor[0] * rows + neighbor[1] + 1)\n",
        "  return result\n",
        "\n",
        "variables = [[i*rows+j+1 for j in range(rows)] for i in range(columns)]\n",
        "# print(variables)\n",
        "\n",
        "clauses = []\n",
        "\n",
        "# Each cell must be green or red\n",
        "for i in range(rows):\n",
        "  for j in range(columns):\n",
        "    clause = [variables[i][j], -variables[i][j]]\n",
        "    clauses.append(clause)\n",
        "\n",
        "for i in range(rows):\n",
        "    for j in range(columns):\n",
        "        if maze[i][j] != \" \":\n",
        "\n",
        "            adjacents = convert_coordinate_to_int(get_adjacents(i, j))\n",
        "            for c in combinations(adjacents, len(adjacents)-int(maze[i][j])+1):\n",
        "                clauses.append(list(c))\n",
        "\n",
        "            not_adjacents = [-i for i in adjacents]\n",
        "            for c in combinations(not_adjacents, int(maze[i][j])+1):\n",
        "                clauses.append(list(c))\n",
        "\n",
        "g = Glucose3()\n",
        "\n",
        "for clause in clauses:\n",
        "    g.add_clause(clause)\n",
        "\n",
        "g.solve()\n",
        "\n",
        "# Get solution\n",
        "solution = g.get_model()\n",
        "\n",
        "def show_detail(boolean):\n",
        "    if boolean:\n",
        "        print(\"Clauses: \\n\", clauses, end=\"\\n\\n\")\n",
        "        print(\"Solution: \", solution)\n",
        "\n",
        "\n",
        "def draw(boolean):\n",
        "    if boolean:\n",
        "        new_maze = []\n",
        "        for s in solution:\n",
        "            if s < 0: s = 0\n",
        "            else: s = 1\n",
        "            new_maze.append(s)\n",
        "\n",
        "        new_maze = np.array(new_maze).reshape(rows, columns)\n",
        "\n",
        "        fig, ax = plt.subplots()\n",
        "        cmap = colors.ListedColormap(['Red','Green'])\n",
        "        ax.matshow(new_maze, cmap=cmap)\n",
        "        for i in range(rows):\n",
        "            for j in range(columns):\n",
        "                c = maze[j][i] # input maze\n",
        "                ax.text(i, j, str(c), va='center', ha='center')\n",
        "        plt.show()\n",
        "\n",
        "draw(True)\n",
        "show_detail(False)"
      ]
    }
  ],
  "metadata": {
    "colab": {
      "provenance": []
    },
    "kernelspec": {
      "display_name": "Python 3",
      "name": "python3"
    },
    "language_info": {
      "name": "python"
    }
  },
  "nbformat": 4,
  "nbformat_minor": 0
}
